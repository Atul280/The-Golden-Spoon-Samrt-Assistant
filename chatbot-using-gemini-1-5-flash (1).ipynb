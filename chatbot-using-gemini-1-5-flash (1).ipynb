{
 "cells": [
  {
   "cell_type": "code",
   "execution_count": 1,
   "id": "a3c97302",
   "metadata": {
    "execution": {
     "iopub.execute_input": "2025-05-03T12:05:09.892770Z",
     "iopub.status.busy": "2025-05-03T12:05:09.892348Z",
     "iopub.status.idle": "2025-05-03T12:05:13.659382Z",
     "shell.execute_reply": "2025-05-03T12:05:13.658177Z"
    },
    "papermill": {
     "duration": 3.776502,
     "end_time": "2025-05-03T12:05:13.662004",
     "exception": false,
     "start_time": "2025-05-03T12:05:09.885502",
     "status": "completed"
    },
    "tags": []
   },
   "outputs": [],
   "source": [
    "import pandas as pd\n",
    "import numpy as np\n",
    "from sklearn import preprocessing\n",
    "from sklearn.model_selection import train_test_split\n",
    "from sklearn.feature_extraction.text import TfidfVectorizer\n",
    "from sklearn.pipeline import Pipeline\n",
    "from sklearn.metrics import classification_report\n",
    "from sklearn.linear_model import LogisticRegression\n",
    "import nltk\n"
   ]
  },
  {
   "cell_type": "markdown",
   "id": "230cd33f",
   "metadata": {
    "papermill": {
     "duration": 0.004126,
     "end_time": "2025-05-03T12:05:13.671008",
     "exception": false,
     "start_time": "2025-05-03T12:05:13.666882",
     "status": "completed"
    },
    "tags": []
   },
   "source": [
    "**Install the SDK**"
   ]
  },
  {
   "cell_type": "code",
   "execution_count": 2,
   "id": "46a7f658",
   "metadata": {
    "execution": {
     "iopub.execute_input": "2025-05-03T12:05:13.681237Z",
     "iopub.status.busy": "2025-05-03T12:05:13.680664Z",
     "iopub.status.idle": "2025-05-03T12:05:51.201224Z",
     "shell.execute_reply": "2025-05-03T12:05:51.199502Z"
    },
    "papermill": {
     "duration": 37.532464,
     "end_time": "2025-05-03T12:05:51.207712",
     "exception": false,
     "start_time": "2025-05-03T12:05:13.675248",
     "status": "completed"
    },
    "tags": []
   },
   "outputs": [
    {
     "name": "stdout",
     "output_type": "stream",
     "text": [
      "Note: you may need to restart the kernel to use updated packages.\n"
     ]
    }
   ],
   "source": [
    "%pip install -U -q \"google-generativeai>=0.8.5\""
   ]
  },
  {
   "cell_type": "markdown",
   "id": "cf0ab467",
   "metadata": {
    "papermill": {
     "duration": 0.004108,
     "end_time": "2025-05-03T12:05:51.216248",
     "exception": false,
     "start_time": "2025-05-03T12:05:51.212140",
     "status": "completed"
    },
    "tags": []
   },
   "source": [
    "**Setting up API key**\n",
    "\n",
    "To use the Google AI API in my Kaggle notebook, I'll need to obtain an API key from AI Studio. Once I have the key, I'll store it securely as a Kaggle secret named GOOGLE_API_KEY. This will enable me to access and utilize the API's powerful capabilities within your notebook."
   ]
  },
  {
   "cell_type": "code",
   "execution_count": 3,
   "id": "92734430",
   "metadata": {
    "execution": {
     "iopub.execute_input": "2025-05-03T12:05:51.228300Z",
     "iopub.status.busy": "2025-05-03T12:05:51.227895Z",
     "iopub.status.idle": "2025-05-03T12:05:52.384954Z",
     "shell.execute_reply": "2025-05-03T12:05:52.383827Z"
    },
    "papermill": {
     "duration": 1.16647,
     "end_time": "2025-05-03T12:05:52.387721",
     "exception": false,
     "start_time": "2025-05-03T12:05:51.221251",
     "status": "completed"
    },
    "tags": []
   },
   "outputs": [],
   "source": [
    "import google.generativeai as genai\n",
    "from IPython.display import HTML, Markdown, display"
   ]
  },
  {
   "cell_type": "code",
   "execution_count": 4,
   "id": "d1633b26",
   "metadata": {
    "execution": {
     "iopub.execute_input": "2025-05-03T12:05:52.399627Z",
     "iopub.status.busy": "2025-05-03T12:05:52.398822Z",
     "iopub.status.idle": "2025-05-03T12:05:52.497064Z",
     "shell.execute_reply": "2025-05-03T12:05:52.495825Z"
    },
    "papermill": {
     "duration": 0.107282,
     "end_time": "2025-05-03T12:05:52.499557",
     "exception": false,
     "start_time": "2025-05-03T12:05:52.392275",
     "status": "completed"
    },
    "tags": []
   },
   "outputs": [],
   "source": [
    "from kaggle_secrets import UserSecretsClient\n",
    "\n",
    "GOOGLE_API_KEY = UserSecretsClient().get_secret(\"GOOGLE_API_KEY\")\n",
    "genai.configure(api_key=GOOGLE_API_KEY)"
   ]
  },
  {
   "cell_type": "markdown",
   "id": "2409a79b",
   "metadata": {
    "papermill": {
     "duration": 0.005925,
     "end_time": "2025-05-03T12:05:52.510251",
     "exception": false,
     "start_time": "2025-05-03T12:05:52.504326",
     "status": "completed"
    },
    "tags": []
   },
   "source": [
    "**Running Prompt**"
   ]
  },
  {
   "cell_type": "code",
   "execution_count": 5,
   "id": "e2d4ddcf",
   "metadata": {
    "execution": {
     "iopub.execute_input": "2025-05-03T12:05:52.521317Z",
     "iopub.status.busy": "2025-05-03T12:05:52.520885Z",
     "iopub.status.idle": "2025-05-03T12:05:53.526525Z",
     "shell.execute_reply": "2025-05-03T12:05:53.525062Z"
    },
    "papermill": {
     "duration": 1.01496,
     "end_time": "2025-05-03T12:05:53.529988",
     "exception": false,
     "start_time": "2025-05-03T12:05:52.515028",
     "status": "completed"
    },
    "tags": []
   },
   "outputs": [
    {
     "name": "stdout",
     "output_type": "stream",
     "text": [
      "One fascinating aspect of quantum computing is its potential to **break widely used encryption methods**.  Current internet security relies heavily on the difficulty of factoring very large numbers – a problem that's computationally expensive for classical computers. However, Shor's algorithm, a quantum algorithm, can solve this problem exponentially faster, potentially rendering much of our online security obsolete.  This highlights the double-edged sword of quantum computing: its immense power carries significant implications for both security and vulnerability.\n",
      "\n"
     ]
    }
   ],
   "source": [
    "from IPython.display import HTML, Markdown, display\n",
    "from kaggle_secrets import UserSecretsClient\n",
    "\n",
    "flash = genai.GenerativeModel('gemini-1.5-flash')\n",
    "response = flash.generate_content(\"Tell me something interesting about quantum computing.\")\n",
    "print(response.text)"
   ]
  },
  {
   "cell_type": "code",
   "execution_count": 6,
   "id": "f7d4cafa",
   "metadata": {
    "execution": {
     "iopub.execute_input": "2025-05-03T12:05:53.541838Z",
     "iopub.status.busy": "2025-05-03T12:05:53.541262Z",
     "iopub.status.idle": "2025-05-03T12:05:53.551601Z",
     "shell.execute_reply": "2025-05-03T12:05:53.550314Z"
    },
    "papermill": {
     "duration": 0.018983,
     "end_time": "2025-05-03T12:05:53.553860",
     "exception": false,
     "start_time": "2025-05-03T12:05:53.534877",
     "status": "completed"
    },
    "tags": []
   },
   "outputs": [
    {
     "data": {
      "text/markdown": [
       "One fascinating aspect of quantum computing is its potential to **break widely used encryption methods**.  Current internet security relies heavily on the difficulty of factoring very large numbers – a problem that's computationally expensive for classical computers. However, Shor's algorithm, a quantum algorithm, can solve this problem exponentially faster, potentially rendering much of our online security obsolete.  This highlights the double-edged sword of quantum computing: its immense power carries significant implications for both security and vulnerability.\n"
      ],
      "text/plain": [
       "<IPython.core.display.Markdown object>"
      ]
     },
     "execution_count": 6,
     "metadata": {},
     "output_type": "execute_result"
    }
   ],
   "source": [
    "Markdown(response.text)"
   ]
  },
  {
   "cell_type": "markdown",
   "id": "dc628599",
   "metadata": {
    "papermill": {
     "duration": 0.004403,
     "end_time": "2025-05-03T12:05:53.562953",
     "exception": false,
     "start_time": "2025-05-03T12:05:53.558550",
     "status": "completed"
    },
    "tags": []
   },
   "source": [
    "**Building a Restaurant Conversational Agent: Enhancing the Dining Experience**\n",
    "\n",
    "We're developing a sophisticated conversational agent designed to revolutionize the dining experience. This AI-powered bot will provide real-time assistance to customers, from menu recommendations to order placement and payment processing.\n",
    "\n",
    "**Data**\n",
    "\n",
    "Here is a small set of documents I will be using to create an embedding database."
   ]
  },
  {
   "cell_type": "code",
   "execution_count": 7,
   "id": "e0dd30b6",
   "metadata": {
    "execution": {
     "iopub.execute_input": "2025-05-03T12:05:53.579161Z",
     "iopub.status.busy": "2025-05-03T12:05:53.578725Z",
     "iopub.status.idle": "2025-05-03T12:05:53.590860Z",
     "shell.execute_reply": "2025-05-03T12:05:53.589547Z"
    },
    "papermill": {
     "duration": 0.024238,
     "end_time": "2025-05-03T12:05:53.593681",
     "exception": false,
     "start_time": "2025-05-03T12:05:53.569443",
     "status": "completed"
    },
    "tags": []
   },
   "outputs": [],
   "source": [
    "Document1 = \"\"\"Our restaurant is called \"The Golden Spoon.\" We are located at 123 Main Street in Varanasi, Uttar Pradesh. You can reach us by phone at 0542-XXXXXXX. Our website is www.thegoldenspoon.com. We offer limited street parking. The main entrance and dining area are wheelchair accessible. We have a charming outdoor seating area during pleasant weather. We specialize in authentic North Indian cuisine with a modern twist. Ask us about our daily specials!\"\"\"\n",
    "\n",
    "Document2 = \"\"\"Welcome to The Golden Spoon in Varanasi! We offer a diverse menu featuring the best of Indian, Chinese, Continental, South Indian, and Italian cuisines. Our opening hours are from 11:00 AM to 11:00 PM daily. For reservations or inquiries, please call us at 0542-XXXXXXX or visit our website at www.thegoldenspoon.com.\n",
    "\n",
    "**Our Menu:**\n",
    "\n",
    "**Indian Delights:**\n",
    "Our Indian menu boasts popular dishes like creamy Butter Chicken (₹380), rich Paneer Tikka Masala (₹350), fragrant Chicken Biryani (₹420), flavorful Dal Makhani (₹300), and spicy Chana Masala (₹280). We also offer a variety of Indian breads including Naan (₹50), Roti (₹30), and Paratha (₹70). For seafood lovers, our Goan Fish Curry (₹450) is a must-try.\n",
    "\n",
    "**Chinese Favorites:**\n",
    "Indulge in our classic Chinese dishes such as Chicken Manchurian (dry/gravy - ₹320), Vegetable Fried Rice (₹250), Hakka Noodles (₹280), Schezwan Chicken (₹350), and Spring Rolls (₹180 for 2). We also offer a spicy Kung Pao Chicken (₹360) and a comforting Sweet and Sour Vegetables (₹290).\n",
    "\n",
    "**Continental Selection:**\n",
    "Our Continental menu features Grilled Chicken with Mushroom Sauce (₹400), Fish and Chips (₹380), Shepherd's Pie (₹360), Vegetable Au Gratin (₹320), and Chicken Stroganoff (₹420). These dishes offer a taste of global flavors prepared with our special touch.\n",
    "\n",
    "**South Indian Specialties:**\n",
    "Experience the authentic flavors of South India with our crispy Dosa (plain - ₹120, masala - ₹180, paneer - ₹220), fluffy Idli with Sambar (₹150 for 2), savory Vada (₹100 for 2), and tangy Pongal (₹160). Our South Indian Thali (₹300) offers a delightful assortment of regional specialties.\n",
    "\n",
    "**Italian Indulgence:**\n",
    "Savor our Italian classics including Margherita Pizza (₹350 for 10 inch), creamy Alfredo Pasta (with chicken - ₹400, with vegetables - ₹350), spicy Arrabbiata Pasta (₹320), cheesy Lasagna (₹450), and flavorful Mushroom Risotto (₹380). Our Garlic Bread (₹120 for 4 slices) is a perfect accompaniment.\n",
    "\n",
    "**Beverages:**\n",
    "We offer a range of beverages including Soft Drinks (₹60), Juices (₹80), Lassi (Sweet/Salted - ₹90, Mango - ₹120), Masala Chai (₹50), and Coffee (₹70).\n",
    "\n",
    "**Desserts:**\n",
    "Our dessert selection includes traditional Indian sweets like Gulab Jamun (₹80 for 2) and Rasgulla (₹70 for 2), as well as international favorites like Chocolate Lava Cake (₹200) and Ice Cream (₹100 per scoop).\n",
    "\n",
    "**Vegetarian & Vegan Options:** We have a wide array of delicious vegetarian and vegan options across all cuisines, clearly marked on our in-house and online menus. Please ask your server for assistance.\n",
    "\n",
    "**Allergies:** Please inform your server of any dietary restrictions or allergies, and our staff will be happy to assist you.\n",
    "\n",
    "Enjoy your dining experience at The Golden Spoon! We appreciate your patronage.\n",
    "\"\"\"\n",
    "\n",
    "Document3 = \"\"\"Yes, we do offer delivery within a 5-kilometer radius of our restaurant. The minimum order for delivery is ₹300. Our delivery charges are ₹50 for orders below ₹500 and free for orders above ₹500. The estimated delivery time is typically 30-45 minutes, depending on the distance and order volume. You can customize most dishes; please specify your requests when placing your order (e.g., \"no onions,\" \"extra spicy\"). We accept online payments, credit/debit cards upon delivery, and cash on delivery. Gift cards can be redeemed for both dine-in and delivery orders. To inquire about the status of your delivery or to request a cancellation (within a reasonable timeframe before dispatch), please call us immediately at 0542-XXXXXXX.\"\"\"\n",
    "\n",
    "Document4 = \"\"\"Yes, we highly recommend making a reservation, especially during peak hours and weekends. You can make a reservation through our website at www.thegoldenspoon.com/reservations or by calling us at 0542-XXXXXXX. The earliest reservation we typically take is for our opening time, and the latest is one hour before closing. You can reserve a table for up to 10 people online. For larger parties, please call us directly. While we try our best to accommodate requests for specific tables, it cannot be guaranteed. The standard table reservation time is 1.5 to 2 hours, depending on the party size. To modify or cancel your reservation, please do so at least 2 hours in advance via our website or by phone.\"\"\"\n",
    "\n",
    "Document5 = \"\"\"Our goal is to provide a delicious and satisfying dining experience. We use fresh, flavorful, and quality ingredients in all our dishes. Our chefs ensure that each meal is well-cooked and presented beautifully. If, for any reason, you find your food to be undercooked, overcooked, bland, or not to your satisfaction, please inform your server immediately, and we will do our best to rectify the situation. We strive for friendly, attentive, and efficient service. If you experience slow or rude service, please speak to our manager. We aim to create a cozy and comfortable ambiance with tasteful decor and background music. We believe our prices offer reasonable value for the quality of food and service provided. If you have any complaints or feedback regarding your overall experience, please don't hesitate to share it with our staff or leave a review on our website or other platforms.\"\"\"\n",
    "\n",
    "Document6 = \"\"\"We take dietary needs and allergies seriously. Please inform your server about any vegetarian, vegan, or gluten-free requirements or any specific allergies, such as nut or dairy allergies. Our staff is trained to handle special requests and can guide you through the menu options that are suitable for you. While we take precautions to avoid cross-contamination, please be aware that our kitchen handles various allergens. We aim for order accuracy and apologize if you receive a wrong order or a missing item. Please notify us immediately, and we will promptly correct your order. For delivery experiences, we strive for on-time delivery and ensure that food is properly packaged. If your delivery is late, or if you receive cold food or damaged packaging, please contact us, and we will address your concerns.\"\"\"\n",
    "\n",
    "Document7 = \"\"\"Our kitchen maintains a stock of fresh produce, various meats, dairy products, grains, and a wide array of spices and beverages to ensure we can prepare all our menu items. We regularly monitor our stock levels to avoid running out of ingredients. We work with trusted suppliers to order and purchase high-quality ingredients, and we maintain detailed invoices for all purchases. Our storage facilities include refrigeration, freezers, and dry storage areas to maintain the freshness and quality of our ingredients. We adhere to strict shelf life guidelines and manage our inventory to minimize spoilage and waste through careful portion control. We have a system in place for tracking our inventory, including regular counts and audits.\"\"\"\n",
    "\n",
    "Document8 = \"\"\"We continuously strive to streamline our processes for efficiency. Our order management system ensures quick processing and fulfillment of both dine-in and delivery orders. Our kitchen utilizes a kitchen display system (KDS) to optimize workflow. For table management, our seating arrangements are designed for optimal flow, and we use a reservation system to manage bookings and waitlists. We offer various payment processing options, including online payments, card payments through our point of sale (POS) system, and cash payments. Internal and staff communication is crucial for smooth operations. We are exploring opportunities for automation, such as automated online ordering and digital menus. Our overall workflow is designed with clear steps and coordination among all team members. We leverage technology and integrate various software platforms to enhance our efficiency.\"\"\"\n",
    "\n",
    "Document9 = \"\"\"We often have special offers and promotions. Please check our website or ask your server about our current deals and discounts. We also have a happy hour from 5 PM to 7 PM daily, featuring discounted beverages and appetizers. Yes, we do host private events and offer catering services. Our catering options are flexible and can be customized to suit your needs. Please contact our events coordinator for more details. We encourage our customers to leave feedback and reviews on our website and platforms like Google Reviews. Our ratings are important to us, and we continuously strive to improve based on customer feedback. We are currently developing a loyalty program to reward our regular customers. Stay tuned for more information on how to earn points and redeem rewards.\"\"\"\n",
    "\n",
    "Document10 = \"\"\"For specific allergen information about any dish, please ask your server, and they can provide you with detailed information from our allergen menu. We are working on providing nutritional values for our menu items on our website soon. We are committed to sustainability and use eco-friendly packaging for our takeout and delivery orders where possible. We prioritize sourcing our ingredients locally whenever feasible to support local farmers and ensure freshness. Our kitchen staff includes experienced chefs who oversee the preparation of all dishes. Our friendly servers and waiters are here to provide excellent service at your table. Our welcoming hostess will assist you with seating arrangements. The restaurant is managed by a dedicated team focused on ensuring a positive dining experience. Our skilled bartenders prepare a variety of beverages at our bar. Our kitchen is equipped with modern equipment, including efficient ovens, stoves, fryers, and a commercial dishwasher. We utilize a POS system for order taking and payment processing.\"\"\"\n",
    "\n",
    "documents = [Document1, Document2, Document3, Document4, Document5, Document6, Document7, Document8, Document9, Document10]"
   ]
  },
  {
   "cell_type": "markdown",
   "id": "77a676c0",
   "metadata": {
    "papermill": {
     "duration": 0.007707,
     "end_time": "2025-05-03T12:05:53.609721",
     "exception": false,
     "start_time": "2025-05-03T12:05:53.602014",
     "status": "completed"
    },
    "tags": []
   },
   "source": [
    "**Setup**\n",
    "\r\n",
    "First, install ChromaDB and the Gemini API Python SDK."
   ]
  },
  {
   "cell_type": "code",
   "execution_count": 8,
   "id": "5792d362",
   "metadata": {
    "execution": {
     "iopub.execute_input": "2025-05-03T12:05:53.623952Z",
     "iopub.status.busy": "2025-05-03T12:05:53.623390Z",
     "iopub.status.idle": "2025-05-03T12:06:31.983904Z",
     "shell.execute_reply": "2025-05-03T12:06:31.982117Z"
    },
    "papermill": {
     "duration": 38.370911,
     "end_time": "2025-05-03T12:06:31.986684",
     "exception": false,
     "start_time": "2025-05-03T12:05:53.615773",
     "status": "completed"
    },
    "tags": []
   },
   "outputs": [
    {
     "name": "stdout",
     "output_type": "stream",
     "text": [
      "\u001b[31mERROR: pip's dependency resolver does not currently take into account all the packages that are installed. This behaviour is the source of the following dependency conflicts.\r\n",
      "kfp 2.5.0 requires google-cloud-storage<3,>=2.2.1, but you have google-cloud-storage 1.44.0 which is incompatible.\r\n",
      "kfp 2.5.0 requires kubernetes<27,>=8.0.0, but you have kubernetes 32.0.1 which is incompatible.\u001b[0m\u001b[31m\r\n",
      "\u001b[0mNote: you may need to restart the kernel to use updated packages.\n"
     ]
    }
   ],
   "source": [
    "%pip install -U -q \"google-generativeai>=0.8.5\" chromadb"
   ]
  },
  {
   "cell_type": "markdown",
   "id": "0cfce306",
   "metadata": {
    "papermill": {
     "duration": 0.004543,
     "end_time": "2025-05-03T12:06:31.996209",
     "exception": false,
     "start_time": "2025-05-03T12:06:31.991666",
     "status": "completed"
    },
    "tags": []
   },
   "source": [
    "**ChromaDB**\n",
    "\n",
    "Create a Python function to generate embeddings for documents and queries using the Gemini API. Set the `task_type` to `retrieval_document` for document embeddings and `retrieval_query` for query embeddings. These embeddings will be used to power a retrieval system. Refer to the API reference for more details on supported task types. \r\n"
   ]
  },
  {
   "cell_type": "code",
   "execution_count": 9,
   "id": "fe364179",
   "metadata": {
    "execution": {
     "iopub.execute_input": "2025-05-03T12:06:32.009452Z",
     "iopub.status.busy": "2025-05-03T12:06:32.008934Z",
     "iopub.status.idle": "2025-05-03T12:06:33.638249Z",
     "shell.execute_reply": "2025-05-03T12:06:33.636533Z"
    },
    "papermill": {
     "duration": 1.640176,
     "end_time": "2025-05-03T12:06:33.641250",
     "exception": false,
     "start_time": "2025-05-03T12:06:32.001074",
     "status": "completed"
    },
    "tags": []
   },
   "outputs": [],
   "source": [
    "from chromadb import Documents, EmbeddingFunction, Embeddings\n",
    "from google.api_core import retry\n",
    "\n",
    "\n",
    "class GeminiEmbeddingFunction(EmbeddingFunction):\n",
    "    # Specify whether to generate embeddings for documents, or queries\n",
    "    document_mode = True\n",
    "\n",
    "    def __call__(self, input: Documents) -> Embeddings:\n",
    "        if self.document_mode:\n",
    "            embedding_task = \"retrieval_document\"\n",
    "        else:\n",
    "            embedding_task = \"retrieval_query\"\n",
    "\n",
    "        retry_policy = {\"retry\": retry.Retry(predicate=retry.if_transient_error)}\n",
    "\n",
    "        response = genai.embed_content(\n",
    "            model=\"models/text-embedding-004\",\n",
    "            content=input,\n",
    "            task_type=embedding_task,\n",
    "            request_options=retry_policy,\n",
    "        )\n",
    "        return response[\"embedding\"]"
   ]
  },
  {
   "cell_type": "code",
   "execution_count": 10,
   "id": "0de18b53",
   "metadata": {
    "execution": {
     "iopub.execute_input": "2025-05-03T12:06:33.653507Z",
     "iopub.status.busy": "2025-05-03T12:06:33.653086Z",
     "iopub.status.idle": "2025-05-03T12:06:33.659378Z",
     "shell.execute_reply": "2025-05-03T12:06:33.658150Z"
    },
    "papermill": {
     "duration": 0.015973,
     "end_time": "2025-05-03T12:06:33.662373",
     "exception": false,
     "start_time": "2025-05-03T12:06:33.646400",
     "status": "completed"
    },
    "tags": []
   },
   "outputs": [],
   "source": [
    "import warnings\n",
    "warnings.filterwarnings('ignore')"
   ]
  },
  {
   "cell_type": "code",
   "execution_count": 11,
   "id": "08d30b8c",
   "metadata": {
    "execution": {
     "iopub.execute_input": "2025-05-03T12:06:33.676022Z",
     "iopub.status.busy": "2025-05-03T12:06:33.674770Z",
     "iopub.status.idle": "2025-05-03T12:06:34.225133Z",
     "shell.execute_reply": "2025-05-03T12:06:34.223867Z"
    },
    "papermill": {
     "duration": 0.56035,
     "end_time": "2025-05-03T12:06:34.227717",
     "exception": false,
     "start_time": "2025-05-03T12:06:33.667367",
     "status": "completed"
    },
    "tags": []
   },
   "outputs": [],
   "source": [
    "import chromadb\n",
    "\n",
    "DB_NAME = \"googlerestaurentdb\"\n",
    "embed_fn = GeminiEmbeddingFunction()\n",
    "embed_fn.document_mode = True\n",
    "\n",
    "chroma_client = chromadb.Client()\n",
    "db = chroma_client.get_or_create_collection(name=DB_NAME, embedding_function=embed_fn)\n",
    "\n",
    "db.add(documents=documents, ids=[str(i) for i in range(len(documents))])"
   ]
  },
  {
   "cell_type": "markdown",
   "id": "eddf23bf",
   "metadata": {
    "papermill": {
     "duration": 0.005379,
     "end_time": "2025-05-03T12:06:34.238507",
     "exception": false,
     "start_time": "2025-05-03T12:06:34.233128",
     "status": "completed"
    },
    "tags": []
   },
   "source": [
    "Here are the main points regarding the scope of our restaurant bot:\n",
    "\n",
    "* **Customer-Facing Queries:**\n",
    "    * Basic restaurant information.\n",
    "    * Menu and ordering.\n",
    "    * Reservations.\n",
    "* **Customer Satisfaction:** Understanding terms related to food, service, ambiance, value, overall experience, dietary needs, order accuracy, and delivery.\n",
    "* **Promotions/Deals & Events/Catering**\n",
    "* **Feedback/Reviews & Loyalty Programs**\n",
    "* **Allergens/Dietary Information & Sustainability**\n",
    "* **Restaurant Staff & Equipment:** (Less frequent customer queries)"
   ]
  },
  {
   "cell_type": "code",
   "execution_count": 12,
   "id": "40b76f25",
   "metadata": {
    "execution": {
     "iopub.execute_input": "2025-05-03T12:06:34.250195Z",
     "iopub.status.busy": "2025-05-03T12:06:34.249811Z",
     "iopub.status.idle": "2025-05-03T12:06:34.555218Z",
     "shell.execute_reply": "2025-05-03T12:06:34.554035Z"
    },
    "papermill": {
     "duration": 0.314212,
     "end_time": "2025-05-03T12:06:34.557726",
     "exception": false,
     "start_time": "2025-05-03T12:06:34.243514",
     "status": "completed"
    },
    "tags": []
   },
   "outputs": [
    {
     "data": {
      "text/markdown": [
       "Welcome to The Golden Spoon in Varanasi! We offer a diverse menu featuring the best of Indian, Chinese, Continental, South Indian, and Italian cuisines. Our opening hours are from 11:00 AM to 11:00 PM daily. For reservations or inquiries, please call us at 0542-XXXXXXX or visit our website at www.thegoldenspoon.com.\n",
       "\n",
       "**Our Menu:**\n",
       "\n",
       "**Indian Delights:**\n",
       "Our Indian menu boasts popular dishes like creamy Butter Chicken (₹380), rich Paneer Tikka Masala (₹350), fragrant Chicken Biryani (₹420), flavorful Dal Makhani (₹300), and spicy Chana Masala (₹280). We also offer a variety of Indian breads including Naan (₹50), Roti (₹30), and Paratha (₹70). For seafood lovers, our Goan Fish Curry (₹450) is a must-try.\n",
       "\n",
       "**Chinese Favorites:**\n",
       "Indulge in our classic Chinese dishes such as Chicken Manchurian (dry/gravy - ₹320), Vegetable Fried Rice (₹250), Hakka Noodles (₹280), Schezwan Chicken (₹350), and Spring Rolls (₹180 for 2). We also offer a spicy Kung Pao Chicken (₹360) and a comforting Sweet and Sour Vegetables (₹290).\n",
       "\n",
       "**Continental Selection:**\n",
       "Our Continental menu features Grilled Chicken with Mushroom Sauce (₹400), Fish and Chips (₹380), Shepherd's Pie (₹360), Vegetable Au Gratin (₹320), and Chicken Stroganoff (₹420). These dishes offer a taste of global flavors prepared with our special touch.\n",
       "\n",
       "**South Indian Specialties:**\n",
       "Experience the authentic flavors of South India with our crispy Dosa (plain - ₹120, masala - ₹180, paneer - ₹220), fluffy Idli with Sambar (₹150 for 2), savory Vada (₹100 for 2), and tangy Pongal (₹160). Our South Indian Thali (₹300) offers a delightful assortment of regional specialties.\n",
       "\n",
       "**Italian Indulgence:**\n",
       "Savor our Italian classics including Margherita Pizza (₹350 for 10 inch), creamy Alfredo Pasta (with chicken - ₹400, with vegetables - ₹350), spicy Arrabbiata Pasta (₹320), cheesy Lasagna (₹450), and flavorful Mushroom Risotto (₹380). Our Garlic Bread (₹120 for 4 slices) is a perfect accompaniment.\n",
       "\n",
       "**Beverages:**\n",
       "We offer a range of beverages including Soft Drinks (₹60), Juices (₹80), Lassi (Sweet/Salted - ₹90, Mango - ₹120), Masala Chai (₹50), and Coffee (₹70).\n",
       "\n",
       "**Desserts:**\n",
       "Our dessert selection includes traditional Indian sweets like Gulab Jamun (₹80 for 2) and Rasgulla (₹70 for 2), as well as international favorites like Chocolate Lava Cake (₹200) and Ice Cream (₹100 per scoop).\n",
       "\n",
       "**Vegetarian & Vegan Options:** We have a wide array of delicious vegetarian and vegan options across all cuisines, clearly marked on our in-house and online menus. Please ask your server for assistance.\n",
       "\n",
       "**Allergies:** Please inform your server of any dietary restrictions or allergies, and our staff will be happy to assist you.\n",
       "\n",
       "Enjoy your dining experience at The Golden Spoon! We appreciate your patronage.\n"
      ],
      "text/plain": [
       "<IPython.core.display.Markdown object>"
      ]
     },
     "execution_count": 12,
     "metadata": {},
     "output_type": "execute_result"
    }
   ],
   "source": [
    "# Switch to query mode when generating embeddings.\n",
    "embed_fn.document_mode = False\n",
    "\n",
    "# Search the Chroma DB using the specified query.\n",
    "query = \"CAn you tell me menus\"\n",
    "\n",
    "result = db.query(query_texts=[query], n_results=1)\n",
    "[[passage]] = result[\"documents\"]\n",
    "\n",
    "Markdown(passage)"
   ]
  },
  {
   "cell_type": "code",
   "execution_count": null,
   "id": "bb1dddad",
   "metadata": {
    "papermill": {
     "duration": 0.005203,
     "end_time": "2025-05-03T12:06:34.568201",
     "exception": false,
     "start_time": "2025-05-03T12:06:34.562998",
     "status": "completed"
    },
    "tags": []
   },
   "outputs": [],
   "source": []
  }
 ],
 "metadata": {
  "kaggle": {
   "accelerator": "none",
   "dataSources": [
    {
     "datasetId": 6189555,
     "sourceId": 10046714,
     "sourceType": "datasetVersion"
    }
   ],
   "dockerImageVersionId": 30786,
   "isGpuEnabled": false,
   "isInternetEnabled": true,
   "language": "python",
   "sourceType": "notebook"
  },
  "kernelspec": {
   "display_name": "Python 3",
   "language": "python",
   "name": "python3"
  },
  "language_info": {
   "codemirror_mode": {
    "name": "ipython",
    "version": 3
   },
   "file_extension": ".py",
   "mimetype": "text/x-python",
   "name": "python",
   "nbconvert_exporter": "python",
   "pygments_lexer": "ipython3",
   "version": "3.10.14"
  },
  "papermill": {
   "default_parameters": {},
   "duration": 90.014505,
   "end_time": "2025-05-03T12:06:36.206289",
   "environment_variables": {},
   "exception": null,
   "input_path": "__notebook__.ipynb",
   "output_path": "__notebook__.ipynb",
   "parameters": {},
   "start_time": "2025-05-03T12:05:06.191784",
   "version": "2.6.0"
  }
 },
 "nbformat": 4,
 "nbformat_minor": 5
}
